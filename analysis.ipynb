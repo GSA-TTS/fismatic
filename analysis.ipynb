{
 "cells": [
  {
   "cell_type": "markdown",
   "metadata": {},
   "source": [
    "# Analysis\n",
    "\n",
    "Do analysis across a number of files."
   ]
  },
  {
   "cell_type": "code",
   "execution_count": null,
   "metadata": {},
   "outputs": [],
   "source": [
    "# ignore whitespace warnings\n",
    "%env SPACY_WARNING_IGNORE=W008\n",
    "\n",
    "import ipywidgets as widgets\n",
    "import itertools\n",
    "import pandas as pd\n",
    "import plotly.offline as py\n",
    "import plotly.graph_objs as go\n",
    "from dotenv import load_dotenv\n",
    "import os\n",
    "\n",
    "# offline mode\n",
    "py.init_notebook_mode(connected=False)"
   ]
  },
  {
   "cell_type": "markdown",
   "metadata": {},
   "source": [
    "Re-run this cell when Python code in the repository changes."
   ]
  },
  {
   "cell_type": "code",
   "execution_count": null,
   "metadata": {},
   "outputs": [],
   "source": [
    "import importlib\n",
    "import fismatic.core as fismatic\n",
    "import fismatic.helpers as helpers\n",
    "importlib.reload(fismatic)\n",
    "importlib.reload(helpers);"
   ]
  },
  {
   "cell_type": "markdown",
   "metadata": {},
   "source": [
    "## Load files"
   ]
  },
  {
   "cell_type": "code",
   "execution_count": null,
   "metadata": {},
   "outputs": [],
   "source": [
    "load_dotenv()\n",
    "SSP_DOCS_FOLDER = os.getenv('SSP_DOCS_FOLDER')\n",
    "\n",
    "path_widget = widgets.Text(description=\"Path:\", value=SSP_DOCS_FOLDER)\n",
    "display(path_widget)"
   ]
  },
  {
   "cell_type": "code",
   "execution_count": null,
   "metadata": {},
   "outputs": [],
   "source": [
    "files = fismatic.get_files(path_widget.value)\n",
    "control_sets = [fismatic.control_set_for(f) for f in files]"
   ]
  },
  {
   "cell_type": "markdown",
   "metadata": {},
   "source": [
    "## Compare files"
   ]
  },
  {
   "cell_type": "code",
   "execution_count": null,
   "metadata": {},
   "outputs": [],
   "source": [
    "stats = [fismatic.stats_for(cs) for cs in control_sets]\n",
    "df = pd.DataFrame(stats)\n",
    "df.set_index(\"Filename\", inplace=True)\n",
    "df"
   ]
  },
  {
   "cell_type": "code",
   "execution_count": null,
   "metadata": {},
   "outputs": [],
   "source": [
    "control_token_counts = helpers.flatten([cs.implementation_token_counts() for cs in control_sets])\n",
    "\n",
    "data = [go.Histogram(x=control_token_counts)]\n",
    "layout = go.Layout(\n",
    "    title=\"Control token counts\",\n",
    "    xaxis={\n",
    "        \"title\": \"Number of tokens\"\n",
    "    },\n",
    "    yaxis={\n",
    "        \"title\": \"Number of controls\"\n",
    "    }\n",
    ")\n",
    "fig = go.Figure(data=data, layout=layout)\n",
    "py.iplot(fig, filename='basic histogram')"
   ]
  },
  {
   "cell_type": "code",
   "execution_count": null,
   "metadata": {},
   "outputs": [],
   "source": [
    "from collections import Counter\n",
    "control_names = helpers.flatten([cs.control_names() for cs in control_sets])\n",
    "counter = Counter(control_names)\n",
    "top_controls = counter.most_common(20)\n",
    "pd.DataFrame(top_controls, columns=[\"Control\", \"# occurrences\"])"
   ]
  },
  {
   "cell_type": "code",
   "execution_count": null,
   "metadata": {},
   "outputs": [],
   "source": []
  }
 ],
 "metadata": {
  "kernelspec": {
   "display_name": "Python 3 (ipykernel)",
   "language": "python",
   "name": "python3"
  },
  "language_info": {
   "codemirror_mode": {
    "name": "ipython",
    "version": 3
   },
   "file_extension": ".py",
   "mimetype": "text/x-python",
   "name": "python",
   "nbconvert_exporter": "python",
   "pygments_lexer": "ipython3",
   "version": "3.10.9"
  },
  "vscode": {
   "interpreter": {
    "hash": "f474ab93a406ae25082d61e77ff9f036c04224ec248893da2ec5199aadbc5ea6"
   }
  }
 },
 "nbformat": 4,
 "nbformat_minor": 2
}
